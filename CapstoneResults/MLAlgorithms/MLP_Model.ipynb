{
 "cells": [
  {
   "cell_type": "code",
   "execution_count": 1,
   "metadata": {},
   "outputs": [
    {
     "name": "stderr",
     "output_type": "stream",
     "text": [
      "Using TensorFlow backend.\n"
     ]
    }
   ],
   "source": [
    "from math import sqrt\n",
    "from numpy import concatenate\n",
    "from matplotlib import pyplot\n",
    "from pandas import read_csv\n",
    "from pandas import DataFrame\n",
    "from pandas import concat\n",
    "from sklearn.preprocessing import MinMaxScaler\n",
    "from sklearn.preprocessing import LabelEncoder\n",
    "from sklearn.metrics import mean_squared_error\n",
    "from sklearn.metrics import mean_absolute_error\n",
    "from keras.models import Sequential\n",
    "from keras.layers import Dense\n",
    "from keras.layers import LSTM"
   ]
  },
  {
   "cell_type": "code",
   "execution_count": 2,
   "metadata": {},
   "outputs": [],
   "source": [
    "# Function for converting series data to a supervised data of format, t-1, t, t+1\n",
    "## Basically feeding in the (t-1)th data to predict the t data\n",
    "def series_to_supervised(data, n_in=1, n_out=1, dropnan=True):\n",
    "\tn_vars = 1 if type(data) is list else data.shape[1]\n",
    "\tdf = DataFrame(data)\n",
    "\tcols, names = list(), list()\n",
    "\t# input sequence (t-n, ... t-1)\n",
    "\tfor i in range(n_in, 0, -1):\n",
    "\t\tcols.append(df.shift(i))\n",
    "\t\tnames += [('var%d(t-%d)' % (j+1, i)) for j in range(n_vars)]\n",
    "\t# forecast sequence (t, t+1, ... t+n)\n",
    "\tfor i in range(0, n_out):\n",
    "\t\tcols.append(df.shift(-i))\n",
    "\t\tif i == 0:\n",
    "\t\t\tnames += [('var%d(t)' % (j+1)) for j in range(n_vars)]\n",
    "\t\telse:\n",
    "\t\t\tnames += [('var%d(t+%d)' % (j+1, i)) for j in range(n_vars)]\n",
    "\t# put it all together\n",
    "\tagg = concat(cols, axis=1)\n",
    "\tagg.columns = names\n",
    "\t# drop rows with NaN values\n",
    "\tif dropnan:\n",
    "\t\tagg.dropna(inplace=True)\n",
    "\treturn agg\n"
   ]
  },
  {
   "cell_type": "code",
   "execution_count": 3,
   "metadata": {},
   "outputs": [
    {
     "name": "stdout",
     "output_type": "stream",
     "text": [
      "   time_since_last_recording   latency      cost  reliability  \\\n",
      "0                   0.000000  0.015102  0.193359            1   \n",
      "1                   0.016458  0.015117  0.310547            1   \n",
      "2                   0.003947  0.015297  0.169922            1   \n",
      "3                   0.013916  0.014803  0.191406            1   \n",
      "4                   0.016191  0.014817  0.167969            1   \n",
      "\n",
      "   time_since_last_ping  ping_time  \n",
      "0                   0.0   0.000000  \n",
      "1                   0.0   0.000000  \n",
      "2                   0.0   0.000000  \n",
      "3                   0.0   0.000000  \n",
      "4                   0.0   0.491071  \n"
     ]
    }
   ],
   "source": [
    " \n",
    "# load dataset\n",
    "dataset = read_csv('/Users/sakshikarnawat/Desktop/valet-tool/parse_tactics/normalized_tva_server_1_tactic_1_train.csv')\n",
    "dataset= dataset.drop(columns=[\"timestamp\",\"ping_timestamp\",\"ping_success\"])\n",
    "values = dataset.values\n",
    "print(dataset.head(5))\n",
    "## Load Validation\n",
    "validation = read_csv('/Users/sakshikarnawat/Desktop/valet-tool/parse_tactics/normalized_tva_server_1_tactic_1_test.csv')\n",
    "validation= validation.drop(columns=[\"timestamp\",\"ping_timestamp\",\"ping_success\"])\n",
    "values_validation = validation.values\n"
   ]
  },
  {
   "cell_type": "code",
   "execution_count": 4,
   "metadata": {},
   "outputs": [
    {
     "name": "stdout",
     "output_type": "stream",
     "text": [
      "   var1(t-1)  var2(t-1)  var3(t-1)  var4(t-1)  var5(t-1)  var6(t-1)   var2(t)  \\\n",
      "1        0.0   0.015102   0.193359        1.0        0.0        0.0  0.015117   \n",
      "\n",
      "    var3(t)  var4(t)  \n",
      "1  0.310547      1.0  \n"
     ]
    }
   ],
   "source": [
    "## Calling the function to do the preprocessing the data and removing unwanted columns\n",
    "\n",
    "\n",
    "# frame as supervised learning\n",
    "reframed = series_to_supervised(values, 1, 1)\n",
    "reframed_validation = series_to_supervised(values_validation, 1, 1)\n",
    "# drop columns we don't want to predict\n",
    "reframed.drop(reframed.columns[[6,10,11]], axis=1, inplace=True)\n",
    "reframed_validation.drop(reframed_validation.columns[[6,7,8]], axis=1, inplace=True)\n",
    "print(reframed.head(1))"
   ]
  },
  {
   "cell_type": "code",
   "execution_count": 5,
   "metadata": {},
   "outputs": [
    {
     "name": "stdout",
     "output_type": "stream",
     "text": [
      "(12156, 1, 6) (12156, 3) (2604, 1, 6) (2604, 3)\n"
     ]
    }
   ],
   "source": [
    "## Splitting the data into training and validation sets\n",
    "\n",
    "\n",
    "train = reframed.values\n",
    "test = reframed_validation.values\n",
    "# split into input and outputs\n",
    "train_X, train_y = train[:, :-3], train[:,-3:]\n",
    "test_X, test_y = test[:, :-3], test[:,-3:]\n",
    "# reshape input to be 3D [samples, timesteps, features]\n",
    "train_X = train_X.reshape((train_X.shape[0], 1, train_X.shape[1]))\n",
    "test_X = test_X.reshape((test_X.shape[0], 1, test_X.shape[1]))\n",
    "print(train_X.shape, train_y.shape, test_X.shape, test_y.shape)"
   ]
  },
  {
   "cell_type": "code",
   "execution_count": 6,
   "metadata": {},
   "outputs": [
    {
     "name": "stdout",
     "output_type": "stream",
     "text": [
      "Epoch 1/20\n",
      "12156/12156 [==============================] - 1s 103us/step - loss: 0.0231\n",
      "Epoch 2/20\n",
      "12156/12156 [==============================] - 1s 77us/step - loss: 8.6049e-05\n",
      "Epoch 3/20\n",
      "12156/12156 [==============================] - 1s 70us/step - loss: 7.4210e-05: 0s - loss: 7.342\n",
      "Epoch 4/20\n",
      "12156/12156 [==============================] - 1s 42us/step - loss: 7.2401e-05\n",
      "Epoch 5/20\n",
      "12156/12156 [==============================] - 0s 34us/step - loss: 7.0663e-05\n",
      "Epoch 6/20\n",
      "12156/12156 [==============================] - 1s 43us/step - loss: 6.9901e-05: 0s - loss: \n",
      "Epoch 7/20\n",
      "12156/12156 [==============================] - 1s 44us/step - loss: 6.9680e-05\n",
      "Epoch 8/20\n",
      "12156/12156 [==============================] - 1s 60us/step - loss: 6.9086e-05\n",
      "Epoch 9/20\n",
      "12156/12156 [==============================] - 0s 39us/step - loss: 6.8652e-05\n",
      "Epoch 10/20\n",
      "12156/12156 [==============================] - 1s 42us/step - loss: 6.8614e-05\n",
      "Epoch 11/20\n",
      "12156/12156 [==============================] - 0s 35us/step - loss: 6.8529e-05\n",
      "Epoch 12/20\n",
      "12156/12156 [==============================] - 1s 55us/step - loss: 6.8670e-05: 0s - loss: 6.8\n",
      "Epoch 13/20\n",
      "12156/12156 [==============================] - 0s 38us/step - loss: 6.9509e-05\n",
      "Epoch 14/20\n",
      "12156/12156 [==============================] - 1s 44us/step - loss: 7.0120e-05\n",
      "Epoch 15/20\n",
      "12156/12156 [==============================] - 0s 37us/step - loss: 6.7014e-05\n",
      "Epoch 16/20\n",
      "12156/12156 [==============================] - 1s 49us/step - loss: 6.9017e-05\n",
      "Epoch 17/20\n",
      "12156/12156 [==============================] - 1s 66us/step - loss: 6.8841e-05\n",
      "Epoch 18/20\n",
      "12156/12156 [==============================] - 1s 42us/step - loss: 6.8212e-05\n",
      "Epoch 19/20\n",
      "12156/12156 [==============================] - 1s 42us/step - loss: 6.8465e-05\n",
      "Epoch 20/20\n",
      "12156/12156 [==============================] - 0s 34us/step - loss: 6.8100e-05\n"
     ]
    },
    {
     "data": {
      "image/png": "[encoded data removed]",
      "text/plain": [
       "<Figure size 432x288 with 1 Axes>"
      ]
     },
     "metadata": {
      "needs_background": "light"
     },
     "output_type": "display_data"
    }
   ],
   "source": [
    "## Run this cell for MLP , else Run the next cell for LSTM\n",
    "\n",
    "# flatten input\n",
    "n_input = train_X.shape[1] * train_X.shape[2]\n",
    "X = train_X.reshape((train_X.shape[0], n_input))\n",
    "\n",
    "# define MLP model\n",
    "model = Sequential()\n",
    "model.add(Dense(100, activation='relu', input_dim=n_input))\n",
    "model.add(Dense(3))\n",
    "model.compile(optimizer='adam', loss='mse')\n",
    "history= model.fit(X, train_y, epochs=20, verbose=1)\n",
    "# plot history\n",
    "pyplot.plot(history.history['loss'], label='train')\n",
    "pyplot.legend()\n",
    "pyplot.show()"
   ]
  },
  {
   "cell_type": "code",
   "execution_count": 7,
   "metadata": {},
   "outputs": [],
   "source": [
    "### Doing the same process for testing dataset\n",
    "\n",
    "test_dataset = read_csv('/Users/sakshikarnawat/Desktop/valet-tool/parse_tactics/normalized_tva_server_1_tactic_1_validation.csv')\n",
    "test_dataset= test_dataset.drop(columns=[\"timestamp\",\"ping_timestamp\",\"ping_success\"])\n",
    "test_values = test_dataset.values\n",
    "reframed_test = series_to_supervised(test_values, 1, 1)\n",
    "reframed_test.drop(reframed_test.columns[[6,10,11]], axis=1, inplace=True)\n",
    "testset = reframed_test.values\n",
    "testset_X, testset_y = testset[:, :-3], testset[:,-3:]\n",
    "testdataReshaped = testset_X.reshape((testset_X.shape[0], 1, testset_X.shape[1]))\n"
   ]
  },
  {
   "cell_type": "code",
   "execution_count": 8,
   "metadata": {},
   "outputs": [
    {
     "name": "stdout",
     "output_type": "stream",
     "text": [
      "[[0.01667418 0.17202792 0.99934816]\n",
      " [0.01651097 0.17308882 0.9993767 ]\n",
      " [0.01659112 0.17247385 0.9993565 ]\n",
      " ...\n",
      " [0.01629247 0.17568257 0.9996975 ]\n",
      " [0.01642333 0.1720694  1.0001742 ]\n",
      " [0.01645025 0.17083171 1.0001988 ]]\n"
     ]
    }
   ],
   "source": [
    "## Feeding the test dataset for predictions\n",
    "import pandas as pd\n",
    "\n",
    "## For MLP use below line only\n",
    "yhat = model.predict(testset_X)\n",
    "\n",
    "print(yhat)\n",
    "dataset = pd.DataFrame({'predicted_Latency': yhat[:, 0], 'predicted_Cost': yhat[:, 1],\n",
    "                       'predicted_Reliability': yhat[:, 2]})\n",
    "dataset['predicted_Reliability'].loc[dataset['predicted_Reliability'] >0.5] = 1\n",
    "dataset['predicted_Reliability'].loc[dataset['predicted_Reliability'] <0.5] = 0"
   ]
  },
  {
   "cell_type": "code",
   "execution_count": 9,
   "metadata": {},
   "outputs": [],
   "source": [
    "frames = [test_dataset, dataset]\n",
    "result = pd.concat(frames,axis =1)"
   ]
  },
  {
   "cell_type": "code",
   "execution_count": 10,
   "metadata": {},
   "outputs": [
    {
     "data": {
      "text/html": [
       "<div>\n",
       "<style scoped>\n",
       "    .dataframe tbody tr th:only-of-type {\n",
       "        vertical-align: middle;\n",
       "    }\n",
       "\n",
       "    .dataframe tbody tr th {\n",
       "        vertical-align: top;\n",
       "    }\n",
       "\n",
       "    .dataframe thead th {\n",
       "        text-align: right;\n",
       "    }\n",
       "</style>\n",
       "<table border=\"1\" class=\"dataframe\">\n",
       "  <thead>\n",
       "    <tr style=\"text-align: right;\">\n",
       "      <th></th>\n",
       "      <th>time_since_last_recording</th>\n",
       "      <th>latency</th>\n",
       "      <th>cost</th>\n",
       "      <th>reliability</th>\n",
       "      <th>time_since_last_ping</th>\n",
       "      <th>ping_time</th>\n",
       "      <th>predicted_Latency</th>\n",
       "      <th>predicted_Cost</th>\n",
       "      <th>predicted_Reliability</th>\n",
       "    </tr>\n",
       "  </thead>\n",
       "  <tbody>\n",
       "    <tr>\n",
       "      <th>0</th>\n",
       "      <td>0.010972</td>\n",
       "      <td>0.017155</td>\n",
       "      <td>0.160156</td>\n",
       "      <td>1</td>\n",
       "      <td>0.006864</td>\n",
       "      <td>0.094776</td>\n",
       "      <td>0.016674</td>\n",
       "      <td>0.172028</td>\n",
       "      <td>1.0</td>\n",
       "    </tr>\n",
       "    <tr>\n",
       "      <th>1</th>\n",
       "      <td>0.004683</td>\n",
       "      <td>0.014948</td>\n",
       "      <td>0.167969</td>\n",
       "      <td>1</td>\n",
       "      <td>0.011622</td>\n",
       "      <td>0.094776</td>\n",
       "      <td>0.016511</td>\n",
       "      <td>0.173089</td>\n",
       "      <td>1.0</td>\n",
       "    </tr>\n",
       "    <tr>\n",
       "      <th>2</th>\n",
       "      <td>0.000736</td>\n",
       "      <td>0.015292</td>\n",
       "      <td>0.164062</td>\n",
       "      <td>1</td>\n",
       "      <td>0.000272</td>\n",
       "      <td>0.095119</td>\n",
       "      <td>0.016591</td>\n",
       "      <td>0.172474</td>\n",
       "      <td>1.0</td>\n",
       "    </tr>\n",
       "    <tr>\n",
       "      <th>3</th>\n",
       "      <td>0.007895</td>\n",
       "      <td>0.016283</td>\n",
       "      <td>0.169922</td>\n",
       "      <td>1</td>\n",
       "      <td>0.003058</td>\n",
       "      <td>0.094886</td>\n",
       "      <td>0.016630</td>\n",
       "      <td>0.173693</td>\n",
       "      <td>1.0</td>\n",
       "    </tr>\n",
       "    <tr>\n",
       "      <th>4</th>\n",
       "      <td>0.000000</td>\n",
       "      <td>0.015571</td>\n",
       "      <td>0.173828</td>\n",
       "      <td>1</td>\n",
       "      <td>0.003058</td>\n",
       "      <td>0.094886</td>\n",
       "      <td>0.016522</td>\n",
       "      <td>0.174308</td>\n",
       "      <td>1.0</td>\n",
       "    </tr>\n",
       "    <tr>\n",
       "      <th>5</th>\n",
       "      <td>0.011440</td>\n",
       "      <td>0.015474</td>\n",
       "      <td>0.171875</td>\n",
       "      <td>1</td>\n",
       "      <td>0.001699</td>\n",
       "      <td>0.094592</td>\n",
       "      <td>0.016665</td>\n",
       "      <td>0.173952</td>\n",
       "      <td>1.0</td>\n",
       "    </tr>\n",
       "    <tr>\n",
       "      <th>6</th>\n",
       "      <td>0.005954</td>\n",
       "      <td>0.016747</td>\n",
       "      <td>0.175781</td>\n",
       "      <td>1</td>\n",
       "      <td>0.001223</td>\n",
       "      <td>0.094447</td>\n",
       "      <td>0.016607</td>\n",
       "      <td>0.174892</td>\n",
       "      <td>1.0</td>\n",
       "    </tr>\n",
       "    <tr>\n",
       "      <th>7</th>\n",
       "      <td>0.007560</td>\n",
       "      <td>0.015070</td>\n",
       "      <td>0.162109</td>\n",
       "      <td>1</td>\n",
       "      <td>0.003874</td>\n",
       "      <td>0.094667</td>\n",
       "      <td>0.016636</td>\n",
       "      <td>0.172090</td>\n",
       "      <td>1.0</td>\n",
       "    </tr>\n",
       "    <tr>\n",
       "      <th>8</th>\n",
       "      <td>0.001673</td>\n",
       "      <td>0.014855</td>\n",
       "      <td>0.164062</td>\n",
       "      <td>1</td>\n",
       "      <td>0.001087</td>\n",
       "      <td>0.095725</td>\n",
       "      <td>0.016592</td>\n",
       "      <td>0.172343</td>\n",
       "      <td>1.0</td>\n",
       "    </tr>\n",
       "    <tr>\n",
       "      <th>9</th>\n",
       "      <td>0.003546</td>\n",
       "      <td>0.016296</td>\n",
       "      <td>0.167969</td>\n",
       "      <td>1</td>\n",
       "      <td>0.004757</td>\n",
       "      <td>0.095725</td>\n",
       "      <td>0.016578</td>\n",
       "      <td>0.173258</td>\n",
       "      <td>1.0</td>\n",
       "    </tr>\n",
       "  </tbody>\n",
       "</table>\n",
       "</div>"
      ],
      "text/plain": [
       "   time_since_last_recording   latency      cost  reliability  \\\n",
       "0                   0.010972  0.017155  0.160156            1   \n",
       "1                   0.004683  0.014948  0.167969            1   \n",
       "2                   0.000736  0.015292  0.164062            1   \n",
       "3                   0.007895  0.016283  0.169922            1   \n",
       "4                   0.000000  0.015571  0.173828            1   \n",
       "5                   0.011440  0.015474  0.171875            1   \n",
       "6                   0.005954  0.016747  0.175781            1   \n",
       "7                   0.007560  0.015070  0.162109            1   \n",
       "8                   0.001673  0.014855  0.164062            1   \n",
       "9                   0.003546  0.016296  0.167969            1   \n",
       "\n",
       "   time_since_last_ping  ping_time  predicted_Latency  predicted_Cost  \\\n",
       "0              0.006864   0.094776           0.016674        0.172028   \n",
       "1              0.011622   0.094776           0.016511        0.173089   \n",
       "2              0.000272   0.095119           0.016591        0.172474   \n",
       "3              0.003058   0.094886           0.016630        0.173693   \n",
       "4              0.003058   0.094886           0.016522        0.174308   \n",
       "5              0.001699   0.094592           0.016665        0.173952   \n",
       "6              0.001223   0.094447           0.016607        0.174892   \n",
       "7              0.003874   0.094667           0.016636        0.172090   \n",
       "8              0.001087   0.095725           0.016592        0.172343   \n",
       "9              0.004757   0.095725           0.016578        0.173258   \n",
       "\n",
       "   predicted_Reliability  \n",
       "0                    1.0  \n",
       "1                    1.0  \n",
       "2                    1.0  \n",
       "3                    1.0  \n",
       "4                    1.0  \n",
       "5                    1.0  \n",
       "6                    1.0  \n",
       "7                    1.0  \n",
       "8                    1.0  \n",
       "9                    1.0  "
      ]
     },
     "execution_count": 10,
     "metadata": {},
     "output_type": "execute_result"
    }
   ],
   "source": [
    "import numpy as np\n",
    "result.head(10)\n",
    "# result.to_csv('/Users/manali/Desktop/PingPredictions/predictions_MLP_server_3_tactic_1_Normalized.csv', sep=',', index=0)"
   ]
  },
  {
   "cell_type": "code",
   "execution_count": 11,
   "metadata": {},
   "outputs": [
    {
     "name": "stdout",
     "output_type": "stream",
     "text": [
      "[[0.0149483  0.16796875 1.        ]\n",
      " [0.01529248 0.1640625  1.        ]\n",
      " [0.0162831  0.16992187 1.        ]\n",
      " ...\n",
      " [0.01635488 0.1796875  1.        ]\n",
      " [0.01666088 0.17382812 1.        ]\n",
      " [0.01505033 0.16601562 1.        ]]\n"
     ]
    }
   ],
   "source": [
    "print(testset_y)"
   ]
  },
  {
   "cell_type": "code",
   "execution_count": 12,
   "metadata": {},
   "outputs": [
    {
     "name": "stdout",
     "output_type": "stream",
     "text": [
      "Test RMSE:  0.04450584864832884\n"
     ]
    }
   ],
   "source": [
    "## Finding the root mean squared error of the model\n",
    "\n",
    "rmse = sqrt(mean_squared_error(yhat, testset_y))\n",
    "print('Test RMSE: ' , rmse)"
   ]
  },
  {
   "cell_type": "code",
   "execution_count": 13,
   "metadata": {},
   "outputs": [
    {
     "name": "stdout",
     "output_type": "stream",
     "text": [
      "Test MSE:  0.0019807705639079544\n"
     ]
    }
   ],
   "source": [
    "mse = mean_squared_error(yhat, testset_y)\n",
    "print('Test MSE: ',  mse)"
   ]
  },
  {
   "cell_type": "code",
   "execution_count": 14,
   "metadata": {},
   "outputs": [
    {
     "name": "stdout",
     "output_type": "stream",
     "text": [
      "Test MAE:  0.0068792368619197955\n"
     ]
    }
   ],
   "source": [
    "mae = mean_absolute_error(yhat, testset_y)\n",
    "print('Test MAE: ',  mae)"
   ]
  },
  {
   "cell_type": "code",
   "execution_count": null,
   "metadata": {},
   "outputs": [],
   "source": []
  }
 ],
 "metadata": {
  "kernelspec": {
   "display_name": "Python 3",
   "language": "python",
   "name": "python3"
  },
  "language_info": {
   "codemirror_mode": {
    "name": "ipython",
    "version": 3
   },
   "file_extension": ".py",
   "mimetype": "text/x-python",
   "name": "python",
   "nbconvert_exporter": "python",
   "pygments_lexer": "ipython3",
   "version": "3.7.6"
  }
 },
 "nbformat": 4,
 "nbformat_minor": 4
}
