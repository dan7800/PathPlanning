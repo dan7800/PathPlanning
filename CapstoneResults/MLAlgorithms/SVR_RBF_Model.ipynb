{
 "cells": [
  {
   "cell_type": "code",
   "execution_count": 17,
   "metadata": {},
   "outputs": [],
   "source": [
    "from math import sqrt\n",
    "from numpy import concatenate\n",
    "from matplotlib import pyplot\n",
    "from pandas import read_csv\n",
    "from pandas import DataFrame\n",
    "from pandas import concat\n",
    "from sklearn.preprocessing import MinMaxScaler\n",
    "from sklearn.preprocessing import LabelEncoder\n",
    "from sklearn.metrics import mean_squared_error\n",
    "from sklearn.metrics import mean_absolute_error\n",
    "from keras.models import Sequential\n",
    "from keras.layers import Dense\n",
    "from keras.layers import LSTM"
   ]
  },
  {
   "cell_type": "code",
   "execution_count": 18,
   "metadata": {},
   "outputs": [],
   "source": [
    "# Function for converting series data to a supervised data of format, t-1, t, t+1\n",
    "## Basically feeding in the (t-1)th data to predict the t data\n",
    "def series_to_supervised(data, n_in=1, n_out=1, dropnan=True):\n",
    "\tn_vars = 1 if type(data) is list else data.shape[1]\n",
    "\tdf = DataFrame(data)\n",
    "\tcols, names = list(), list()\n",
    "\t# input sequence (t-n, ... t-1)\n",
    "\tfor i in range(n_in, 0, -1):\n",
    "\t\tcols.append(df.shift(i))\n",
    "\t\tnames += [('var%d(t-%d)' % (j+1, i)) for j in range(n_vars)]\n",
    "\t# forecast sequence (t, t+1, ... t+n)\n",
    "\tfor i in range(0, n_out):\n",
    "\t\tcols.append(df.shift(-i))\n",
    "\t\tif i == 0:\n",
    "\t\t\tnames += [('var%d(t)' % (j+1)) for j in range(n_vars)]\n",
    "\t\telse:\n",
    "\t\t\tnames += [('var%d(t+%d)' % (j+1, i)) for j in range(n_vars)]\n",
    "\t# put it all together\n",
    "\tagg = concat(cols, axis=1)\n",
    "\tagg.columns = names\n",
    "\t# drop rows with NaN values\n",
    "\tif dropnan:\n",
    "\t\tagg.dropna(inplace=True)\n",
    "\treturn agg\n"
   ]
  },
  {
   "cell_type": "code",
   "execution_count": 19,
   "metadata": {},
   "outputs": [
    {
     "name": "stdout",
     "output_type": "stream",
     "text": [
      "   time_since_last_recording   latency      cost  reliability  \\\n",
      "0                   0.000000  0.015102  0.193359            1   \n",
      "1                   0.016458  0.015117  0.310547            1   \n",
      "2                   0.003947  0.015297  0.169922            1   \n",
      "3                   0.013916  0.014803  0.191406            1   \n",
      "4                   0.016191  0.014817  0.167969            1   \n",
      "\n",
      "   time_since_last_ping  ping_time  \n",
      "0                   0.0   0.000000  \n",
      "1                   0.0   0.000000  \n",
      "2                   0.0   0.000000  \n",
      "3                   0.0   0.000000  \n",
      "4                   0.0   0.491071  \n"
     ]
    }
   ],
   "source": [
    " \n",
    "# load dataset\n",
    "dataset = read_csv('/Users/sakshikarnawat/Desktop/valet-tool/parse_tactics/normalized_tva_server_1_tactic_1_train.csv')\n",
    "dataset= dataset.drop(columns=[\"timestamp\",\"ping_timestamp\",\"ping_success\"])\n",
    "values = dataset.values\n",
    "print(dataset.head(5))\n",
    "## Load Validation\n",
    "validation = read_csv('/Users/sakshikarnawat/Desktop/valet-tool/parse_tactics/normalized_tva_server_1_tactic_1_test.csv')\n",
    "validation= validation.drop(columns=[\"timestamp\",\"ping_timestamp\",\"ping_success\"])\n",
    "values_validation = validation.values\n"
   ]
  },
  {
   "cell_type": "code",
   "execution_count": 20,
   "metadata": {},
   "outputs": [
    {
     "name": "stdout",
     "output_type": "stream",
     "text": [
      "   var1(t-1)  var2(t-1)  var3(t-1)  var4(t-1)  var5(t-1)  var6(t-1)   var2(t)  \\\n",
      "1   0.000000   0.015102   0.193359        1.0        0.0        0.0  0.015117   \n",
      "2   0.016458   0.015117   0.310547        1.0        0.0        0.0  0.015297   \n",
      "3   0.003947   0.015297   0.169922        1.0        0.0        0.0  0.014803   \n",
      "\n",
      "    var3(t)  var4(t)  \n",
      "1  0.310547      1.0  \n",
      "2  0.169922      1.0  \n",
      "3  0.191406      1.0  \n"
     ]
    }
   ],
   "source": [
    "## Calling the function to do the preprocessing the data and removing unwanted columns\n",
    "\n",
    "\n",
    "# frame as supervised learning\n",
    "reframed = series_to_supervised(values, 1, 1)\n",
    "reframed_validation = series_to_supervised(values_validation, 1, 1)\n",
    "# drop columns we don't want to predict\n",
    "reframed.drop(reframed.columns[[6,10,11]], axis=1, inplace=True)\n",
    "reframed_validation.drop(reframed_validation.columns[[6,10,11]], axis=1, inplace=True)\n",
    "print(reframed.head(3))"
   ]
  },
  {
   "cell_type": "code",
   "execution_count": 21,
   "metadata": {},
   "outputs": [
    {
     "name": "stdout",
     "output_type": "stream",
     "text": [
      "(2604, 1, 6) (2604, 3) (12156, 1, 6) (12156, 3)\n"
     ]
    }
   ],
   "source": [
    "## Splitting the data into training and validation sets\n",
    "\n",
    "\n",
    "test = reframed.values\n",
    "train = reframed_validation.values\n",
    "# split into input and outputs\n",
    "train_X, train_y = train[:, :-3], train[:,-3:]\n",
    "test_X, test_y = test[:, :-3], test[:,-3:]\n",
    "# reshape input to be 3D [samples, timesteps, features]\n",
    "train_X = train_X.reshape((train_X.shape[0], 1, train_X.shape[1]))\n",
    "test_X = test_X.reshape((test_X.shape[0], 1, test_X.shape[1]))\n",
    "print(train_X.shape, train_y.shape, test_X.shape, test_y.shape)"
   ]
  },
  {
   "cell_type": "code",
   "execution_count": 22,
   "metadata": {},
   "outputs": [],
   "source": [
    "# flatten input\n",
    "n_input = train_X.shape[1] * train_X.shape[2]\n",
    "X = train_X.reshape((train_X.shape[0], n_input))"
   ]
  },
  {
   "cell_type": "code",
   "execution_count": 23,
   "metadata": {},
   "outputs": [],
   "source": [
    "### Doing the same process for testing dataset\n",
    "\n",
    "test_dataset = read_csv('/Users/sakshikarnawat/Desktop/valet-tool/parse_tactics/normalized_tva_server_1_tactic_1_validation.csv')\n",
    "test_dataset= test_dataset.drop(columns=[\"timestamp\",\"ping_timestamp\",\"ping_success\"])\n",
    "test_values = test_dataset.values\n",
    "reframed_test = series_to_supervised(test_values, 1, 1)\n",
    "reframed_test.drop(reframed_test.columns[[6,10,11]], axis=1, inplace=True)\n",
    "testset = reframed_test.values\n",
    "testset_X, testset_y = testset[:, :-3], testset[:,-3:]\n",
    "testdataReshaped = testset_X.reshape((testset_X.shape[0], 1, testset_X.shape[1]))\n"
   ]
  },
  {
   "cell_type": "markdown",
   "metadata": {},
   "source": [
    "## SVR algorithm with RBF kernel. "
   ]
  },
  {
   "cell_type": "code",
   "execution_count": 24,
   "metadata": {},
   "outputs": [
    {
     "name": "stdout",
     "output_type": "stream",
     "text": [
      "Test RMSE:  0.05984670763705947\n",
      "Test MSE:  0.003581628414995672\n",
      "Test MSE:  0.025856263099595125\n"
     ]
    }
   ],
   "source": [
    "from sklearn.svm import SVR\n",
    "from sklearn.multioutput import MultiOutputRegressor\n",
    "regressor = SVR(kernel='rbf')\n",
    "# flatten input\n",
    "n_input = testdataReshaped.shape[1] * testdataReshaped.shape[2]\n",
    "X2 = testdataReshaped.reshape((testdataReshaped.shape[0], n_input))\n",
    "regr = MultiOutputRegressor(regressor)\n",
    "\n",
    "regr.fit(X,train_y)\n",
    "out= regr.predict(X2)\n",
    "\n",
    "rmse = sqrt(mean_squared_error(out,testset_y))\n",
    "print('Test RMSE: ' , rmse)\n",
    "\n",
    "mse = mean_squared_error(out,testset_y)\n",
    "print('Test MSE: ' , mse)\n",
    "\n",
    "mae = mean_absolute_error(out,testset_y)\n",
    "print('Test MSE: ' , mae)"
   ]
  },
  {
   "cell_type": "markdown",
   "metadata": {},
   "source": [
    "## SVR with Linear kernel "
   ]
  },
  {
   "cell_type": "code",
   "execution_count": 9,
   "metadata": {},
   "outputs": [],
   "source": [
    "# from sklearn.svm import SVR\n",
    "# from sklearn.multioutput import MultiOutputRegressor\n",
    "# regressor = SVR(kernel='linear')\n",
    "# # flatten input\n",
    "# n_input = testdataReshaped.shape[1] * testdataReshaped.shape[2]\n",
    "# X2 = testdataReshaped.reshape((testdataReshaped.shape[0], n_input))\n",
    "# regr = MultiOutputRegressor(regressor)\n",
    "\n",
    "# regr.fit(X,train_y)\n",
    "# out= regr.predict(X2)\n",
    "\n",
    "# rmse = sqrt(mean_squared_error(out,testset_y))\n",
    "# print('Test RMSE: %.3f' % rmse)"
   ]
  },
  {
   "cell_type": "markdown",
   "metadata": {},
   "source": [
    "## KNN Regression"
   ]
  },
  {
   "cell_type": "code",
   "execution_count": 10,
   "metadata": {},
   "outputs": [],
   "source": [
    "# from sklearn.neighbors import KNeighborsRegressor\n",
    "# from sklearn.multioutput import MultiOutputRegressor\n",
    "# knn = KNeighborsRegressor()\n",
    "# regr_knn = MultiOutputRegressor(knn)\n",
    "\n",
    "# # flatten input\n",
    "# n_input = testdataReshaped.shape[1] * testdataReshaped.shape[2]\n",
    "# X2 = testdataReshaped.reshape((testdataReshaped.shape[0], n_input))\n",
    "\n",
    "# regr_knn.fit(X,train_y)\n",
    "# regr_knn.predict(testset_X)\n",
    "# out= regr_knn.predict(X2)\n",
    "\n",
    "# rmse = sqrt(mean_squared_error(out,testset_y))\n",
    "# print('Test RMSE: %.3f' % rmse)"
   ]
  },
  {
   "cell_type": "markdown",
   "metadata": {},
   "source": [
    "# Saving to file"
   ]
  },
  {
   "cell_type": "code",
   "execution_count": 11,
   "metadata": {},
   "outputs": [],
   "source": [
    "## Feeding the test dataset for predictions\n",
    "import pandas as pd\n",
    "\n",
    "dataset = pd.DataFrame({'predicted_Latency': out[:, 0], 'predicted_Cost': out[:, 1],\n",
    "                       'predicted_Reliability': out[:, 2]})\n",
    "dataset['predicted_Reliability'].loc[dataset['predicted_Reliability'] >0.5] = 1\n",
    "dataset['predicted_Reliability'].loc[dataset['predicted_Reliability'] <.5] = 0"
   ]
  },
  {
   "cell_type": "code",
   "execution_count": 12,
   "metadata": {},
   "outputs": [],
   "source": [
    "frames = [test_dataset, dataset]\n",
    "result = pd.concat(frames,axis =1)"
   ]
  },
  {
   "cell_type": "code",
   "execution_count": 13,
   "metadata": {},
   "outputs": [
    {
     "name": "stdout",
     "output_type": "stream",
     "text": [
      "   time_since_last_recording   latency      cost  reliability  \\\n",
      "0                   0.005620  0.060326  0.046875            1   \n",
      "1                   0.012578  0.196410  0.027344            1   \n",
      "2                   0.002275  0.157676  0.031250            1   \n",
      "3                   0.000937  0.124168  0.039062            1   \n",
      "4                   0.003078  0.127279  0.023438            1   \n",
      "5                   0.001873  0.069212  0.048828            1   \n",
      "6                   0.018800  0.041113  0.064453            1   \n",
      "7                   0.001204  0.045181  0.062500            1   \n",
      "8                   0.001806  0.094119  0.048828            1   \n",
      "9                   0.004014  0.043100  0.056641            1   \n",
      "\n",
      "   time_since_last_ping  ping_time  predicted_Latency  predicted_Cost  \\\n",
      "0              0.010126   0.039746           0.135849        0.067383   \n",
      "1              0.007816   0.039680           0.139878        0.067383   \n",
      "2              0.001631   0.039549           0.139061        0.067383   \n",
      "3              0.002583   0.039549           0.137959        0.067383   \n",
      "4              0.000612   0.039764           0.138696        0.067383   \n",
      "5              0.002583   0.039764           0.135971        0.067383   \n",
      "6              0.002990   0.039658           0.134052        0.067383   \n",
      "7              0.004282   0.039658           0.134623        0.067383   \n",
      "8              0.006185   0.039658           0.136748        0.067383   \n",
      "9              0.010262   0.039658           0.134883        0.067383   \n",
      "\n",
      "   predicted_Reliability  \n",
      "0                    1.0  \n",
      "1                    1.0  \n",
      "2                    1.0  \n",
      "3                    1.0  \n",
      "4                    1.0  \n",
      "5                    1.0  \n",
      "6                    1.0  \n",
      "7                    1.0  \n",
      "8                    1.0  \n",
      "9                    1.0  \n"
     ]
    }
   ],
   "source": [
    "import numpy as np\n",
    "print(result.head(10))\n",
    "# result.to_csv('/Users/manali/Desktop/PingPredictions/predictions_SVR_RBF_Server_3_Tactic_1_Normalized.csv', sep=',', index=0)"
   ]
  },
  {
   "cell_type": "code",
   "execution_count": null,
   "metadata": {},
   "outputs": [],
   "source": []
  }
 ],
 "metadata": {
  "kernelspec": {
   "display_name": "Python 3",
   "language": "python",
   "name": "python3"
  },
  "language_info": {
   "codemirror_mode": {
    "name": "ipython",
    "version": 3
   },
   "file_extension": ".py",
   "mimetype": "text/x-python",
   "name": "python",
   "nbconvert_exporter": "python",
   "pygments_lexer": "ipython3",
   "version": "3.7.6"
  }
 },
 "nbformat": 4,
 "nbformat_minor": 2
}
