{
 "cells": [
  {
   "cell_type": "code",
   "execution_count": 4,
   "metadata": {},
   "outputs": [],
   "source": [
    "from math import sqrt\n",
    "from numpy import concatenate\n",
    "from matplotlib import pyplot\n",
    "from pandas import read_csv\n",
    "from pandas import DataFrame\n",
    "from pandas import concat\n",
    "from sklearn.preprocessing import MinMaxScaler\n",
    "from sklearn.preprocessing import LabelEncoder\n",
    "from sklearn.metrics import mean_squared_error\n",
    "from sklearn.metrics import mean_absolute_error\n",
    "from keras.models import Sequential\n",
    "from keras.layers import Dense\n",
    "from keras.layers import LSTM"
   ]
  },
  {
   "cell_type": "code",
   "execution_count": 5,
   "metadata": {},
   "outputs": [],
   "source": [
    "# Function for converting series data to a supervised data of format, t-1, t, t+1\n",
    "## Basically feeding in the (t-1)th data to predict the t data\n",
    "def series_to_supervised(data, n_in=1, n_out=1, dropnan=True):\n",
    "\tn_vars = 1 if type(data) is list else data.shape[1]\n",
    "\tdf = DataFrame(data)\n",
    "\tcols, names = list(), list()\n",
    "\t# input sequence (t-n, ... t-1)\n",
    "\tfor i in range(n_in, 0, -1):\n",
    "\t\tcols.append(df.shift(i))\n",
    "\t\tnames += [('var%d(t-%d)' % (j+1, i)) for j in range(n_vars)]\n",
    "\t# forecast sequence (t, t+1, ... t+n)\n",
    "\tfor i in range(0, n_out):\n",
    "\t\tcols.append(df.shift(-i))\n",
    "\t\tif i == 0:\n",
    "\t\t\tnames += [('var%d(t)' % (j+1)) for j in range(n_vars)]\n",
    "\t\telse:\n",
    "\t\t\tnames += [('var%d(t+%d)' % (j+1, i)) for j in range(n_vars)]\n",
    "\t# put it all together\n",
    "\tagg = concat(cols, axis=1)\n",
    "\tagg.columns = names\n",
    "\t# drop rows with NaN values\n",
    "\tif dropnan:\n",
    "\t\tagg.dropna(inplace=True)\n",
    "\treturn agg\n"
   ]
  },
  {
   "cell_type": "code",
   "execution_count": 6,
   "metadata": {},
   "outputs": [
    {
     "name": "stdout",
     "output_type": "stream",
     "text": [
      "   Unnamed: 0  Hours  Minutes    Seconds  Cost  Friday  Monday  Saturday  \\\n",
      "0      185785      9       36  14.184037  25.7       1       0         0   \n",
      "1      118246     21       41  36.496268  24.8       0       1         0   \n",
      "2      224521      9       54  28.717120  25.6       0       0         0   \n",
      "3      151658     15       42  45.761458  24.7       0       0         0   \n",
      "4      243069     14       23  52.160267  25.3       0       1         0   \n",
      "\n",
      "   Sunday  Thursday  Tuesday  Wednesday  A  B  C  A'  B'  C'  \n",
      "0       0         0        0          0  0  0  0   0   1   0  \n",
      "1       0         0        0          0  0  0  0   0   0   1  \n",
      "2       1         0        0          0  0  0  0   0   0   1  \n",
      "3       0         0        0          1  0  1  0   0   1   0  \n",
      "4       0         0        0          0  0  0  1   0   0   1  \n"
     ]
    }
   ],
   "source": [
    "#/Users/sakshikarnawat/Desktop/valet-tool\n",
    "# load dataset\n",
    "dataset = read_csv('/Users/sakshikarnawat/Desktop/CapstoneResults/A_val_train.csv')\n",
    "# dataset= dataset.drop(columns=[\"timestamp\",\"ping_timestamp\",\"ping_success\"])\n",
    "values = dataset.values\n",
    "print(dataset.head(5))\n",
    "## Load Validation\n",
    "validation = read_csv('/Users/sakshikarnawat/Desktop/CapstoneResults/A_test.csv')\n",
    "# validation= validation.drop(columns=[\"timestamp\",\"ping_timestamp\",\"ping_success\"])\n",
    "values_validation = validation.values\n"
   ]
  },
  {
   "cell_type": "code",
   "execution_count": 7,
   "metadata": {},
   "outputs": [
    {
     "name": "stdout",
     "output_type": "stream",
     "text": [
      "   var1(t-1)  var2(t-1)  var3(t-1)  var4(t-1)  var5(t-1)  var6(t-1)  \\\n",
      "1   185785.0        9.0       36.0  14.184037       25.7        1.0   \n",
      "\n",
      "   var8(t-1)  var9(t-1)  var10(t-1)  var13(t-1)  ...  var9(t)  var10(t)  \\\n",
      "1        0.0        0.0         0.0         0.0  ...      0.0       0.0   \n",
      "\n",
      "   var11(t)  var12(t)  var13(t)  var14(t)  var15(t)  var16(t)  var17(t)  \\\n",
      "1       0.0       0.0       0.0       0.0       0.0       0.0       0.0   \n",
      "\n",
      "   var18(t)  \n",
      "1       1.0  \n",
      "\n",
      "[1 rows x 33 columns]\n"
     ]
    }
   ],
   "source": [
    "## Calling the function to do the preprocessing the data and removing unwanted columns\n",
    "\n",
    "\n",
    "# frame as supervised learning\n",
    "reframed = series_to_supervised(values, 1, 1)\n",
    "reframed_validation = series_to_supervised(values_validation, 1, 1)\n",
    "# drop columns we don't want to predict\n",
    "reframed.drop(reframed.columns[[6,10,11]], axis=1, inplace=True)\n",
    "reframed_validation.drop(reframed_validation.columns[[6,10,11]], axis=1, inplace=True)\n",
    "print(reframed.head(1))"
   ]
  },
  {
   "cell_type": "code",
   "execution_count": 8,
   "metadata": {},
   "outputs": [
    {
     "name": "stdout",
     "output_type": "stream",
     "text": [
      "(166708, 1, 30) (166708, 3) (52096, 1, 30) (52096, 3)\n"
     ]
    }
   ],
   "source": [
    "## Splitting the data into training and validation sets\n",
    "\n",
    "\n",
    "train = reframed.values\n",
    "test = reframed_validation.values\n",
    "# split into input and outputs\n",
    "train_X, train_y = train[:, :-3], train[:,-3:]\n",
    "test_X, test_y = test[:, :-3], test[:,-3:]\n",
    "# reshape input to be 3D [samples, timesteps, features]\n",
    "train_X = train_X.reshape((train_X.shape[0], 1, train_X.shape[1]))\n",
    "test_X = test_X.reshape((test_X.shape[0], 1, test_X.shape[1]))\n",
    "print(train_X.shape, train_y.shape, test_X.shape, test_y.shape)"
   ]
  },
  {
   "cell_type": "code",
   "execution_count": 9,
   "metadata": {},
   "outputs": [
    {
     "name": "stdout",
     "output_type": "stream",
     "text": [
      "Model: \"sequential_1\"\n",
      "_________________________________________________________________\n",
      "Layer (type)                 Output Shape              Param #   \n",
      "=================================================================\n",
      "lstm_1 (LSTM)                (None, 1000)              4124000   \n",
      "_________________________________________________________________\n",
      "dense_1 (Dense)              (None, 3)                 3003      \n",
      "=================================================================\n",
      "Total params: 4,127,003\n",
      "Trainable params: 4,127,003\n",
      "Non-trainable params: 0\n",
      "_________________________________________________________________\n",
      "None\n",
      "Train on 166708 samples, validate on 52096 samples\n",
      "Epoch 1/20\n",
      "166708/166708 [==============================] - 250s 2ms/step - loss: 0.2292 - val_loss: 0.2234\n",
      "Epoch 2/20\n",
      "166708/166708 [==============================] - 253s 2ms/step - loss: 0.2259 - val_loss: 0.2231\n",
      "Epoch 3/20\n",
      "166708/166708 [==============================] - 281s 2ms/step - loss: 0.2257 - val_loss: 0.2229\n",
      "Epoch 4/20\n",
      "166708/166708 [==============================] - 270s 2ms/step - loss: 0.2257 - val_loss: 0.2230\n",
      "Epoch 5/20\n",
      "166708/166708 [==============================] - 308s 2ms/step - loss: 0.2256 - val_loss: 0.2230\n",
      "Epoch 6/20\n",
      "166708/166708 [==============================] - 299s 2ms/step - loss: 0.2256 - val_loss: 0.2230\n",
      "Epoch 7/20\n",
      "166708/166708 [==============================] - 277s 2ms/step - loss: 0.2256 - val_loss: 0.2231\n",
      "Epoch 8/20\n",
      "166708/166708 [==============================] - 304s 2ms/step - loss: 0.2257 - val_loss: 0.2231\n",
      "Epoch 9/20\n",
      "166708/166708 [==============================] - 271s 2ms/step - loss: 0.2257 - val_loss: 0.2232\n",
      "Epoch 10/20\n",
      "166708/166708 [==============================] - 260s 2ms/step - loss: 0.2257 - val_loss: 0.2233\n",
      "Epoch 11/20\n",
      "166708/166708 [==============================] - 263s 2ms/step - loss: 0.2257 - val_loss: 0.2233\n",
      "Epoch 12/20\n",
      "166708/166708 [==============================] - 253s 2ms/step - loss: 0.2257 - val_loss: 0.2233\n",
      "Epoch 13/20\n",
      "166708/166708 [==============================] - 248s 1ms/step - loss: 0.2257 - val_loss: 0.2233\n",
      "Epoch 14/20\n",
      "166708/166708 [==============================] - 272s 2ms/step - loss: 0.2257 - val_loss: 0.2233\n",
      "Epoch 15/20\n",
      "166708/166708 [==============================] - 264s 2ms/step - loss: 0.2257 - val_loss: 0.2233\n",
      "Epoch 16/20\n",
      "166708/166708 [==============================] - 257s 2ms/step - loss: 0.2257 - val_loss: 0.2235\n",
      "Epoch 17/20\n",
      "166708/166708 [==============================] - 259s 2ms/step - loss: 0.2257 - val_loss: 0.2234\n",
      "Epoch 18/20\n",
      "166708/166708 [==============================] - 275s 2ms/step - loss: 0.2257 - val_loss: 0.2235\n",
      "Epoch 19/20\n",
      "166708/166708 [==============================] - 263s 2ms/step - loss: 0.2257 - val_loss: 0.2235\n",
      "Epoch 20/20\n",
      "166708/166708 [==============================] - 257s 2ms/step - loss: 0.2257 - val_loss: 0.2235\n"
     ]
    },
    {
     "data": {
      "image/png": "[encoded data removed]",
      "text/plain": [
       "<Figure size 432x288 with 1 Axes>"
      ]
     },
     "metadata": {
      "needs_background": "light"
     },
     "output_type": "display_data"
    }
   ],
   "source": [
    "# design LSTM network  has 1000 hidden layers , used adam optimizer and mse loss function\n",
    "model = Sequential()\n",
    "model.add(LSTM(1000, input_shape=(train_X.shape[1], train_X.shape[2])))\n",
    "model.add(Dense(3))\n",
    "\n",
    "print(model.summary())\n",
    "\n",
    "model.compile(loss='mse', optimizer='adam')\n",
    "# fit network\n",
    "history = model.fit(train_X, train_y, epochs=20, batch_size=72, validation_data=(test_X, test_y), verbose=1, shuffle=False)\n",
    "# plot history\n",
    "pyplot.plot(history.history['loss'], label='train')\n",
    "pyplot.plot(history.history['val_loss'], label='test')\n",
    "pyplot.legend()\n",
    "pyplot.show()"
   ]
  },
  {
   "cell_type": "code",
   "execution_count": 11,
   "metadata": {},
   "outputs": [
    {
     "name": "stdout",
     "output_type": "stream",
     "text": [
      "   Unnamed: 0  Hours  Minutes    Seconds  Cost  Friday  Monday  Saturday  \\\n",
      "0      239535      9       47  10.611630  26.1       0       1         0   \n",
      "1       17510     16       41  14.119838   8.6       0       0         0   \n",
      "2      137690     22       11  19.320848  24.9       0       0         0   \n",
      "3      142526      4        6  54.611408  26.9       0       0         0   \n",
      "4        6133      0       55   5.142670  26.7       0       0         0   \n",
      "\n",
      "   Sunday  Thursday  Tuesday  Wednesday  A  B  C  A'  B'  C'  \n",
      "0       0         0        0          0  0  0  0   1   0   0  \n",
      "1       0         0        0          1  1  0  0   1   0   0  \n",
      "2       0         0        1          0  0  0  0   1   0   0  \n",
      "3       0         0        0          1  0  0  0   0   1   0  \n",
      "4       0         0        0          1  0  0  0   0   0   1  \n",
      "(41677, 30) (41677, 30)\n"
     ]
    }
   ],
   "source": [
    "### Doing the same process for testing dataset\n",
    "\n",
    "#test_dataset = read_csv('normalized_tva_server_2_tactic_1_validation.csv')\n",
    "test_dataset = read_csv('/Users/sakshikarnawat/Desktop/CapstoneResults/A_val_test.csv')\n",
    "# test_dataset= test_dataset.drop(columns=[\"timestamp\",\"ping_timestamp\",\"ping_success\"])\n",
    "print(test_dataset.head())\n",
    "test_values = test_dataset.values\n",
    "reframed_test = series_to_supervised(test_values, 1, 1)\n",
    "reframed_test.drop(reframed_test.columns[[6,10,11]], axis=1, inplace=True)\n",
    "testset = reframed_test.values\n",
    "testset_X, testset_y = testset[:, :-3], testset[:,-3:]\n",
    "testdataReshaped = testset_X.reshape((testset_X.shape[0], 1, testset_X.shape[1]))\n",
    "print(testset_X.shape, testset_X.shape)"
   ]
  },
  {
   "cell_type": "code",
   "execution_count": 12,
   "metadata": {},
   "outputs": [
    {
     "name": "stdout",
     "output_type": "stream",
     "text": [
      "[[0.3307816  0.38213822 0.29446188]\n",
      " [0.3307816  0.38213822 0.29446188]\n",
      " [0.3307816  0.38213822 0.29446188]\n",
      " ...\n",
      " [0.3307816  0.38213822 0.29446188]\n",
      " [0.3307816  0.38213822 0.29446188]\n",
      " [0.3307816  0.38213822 0.29446188]]\n"
     ]
    }
   ],
   "source": [
    "## Feeding the test dataset for predictions\n",
    "import pandas as pd\n",
    "\n",
    "yhat = model.predict(testdataReshaped)\n",
    "\n",
    "print(yhat)\n",
    "dataset = pd.DataFrame({ 'predicted_Cost': yhat[:, 1]})\n",
    "# dataset['predicted_Reliability'].loc[dataset['predicted_Reliability'] >0.5] = 1\n",
    "# dataset['predicted_Reliability'].loc[dataset['predicted_Reliability'] <0.5] = 0"
   ]
  },
  {
   "cell_type": "code",
   "execution_count": 13,
   "metadata": {},
   "outputs": [],
   "source": [
    "frames = [test_dataset, dataset]\n",
    "result = pd.concat(frames,axis =1)"
   ]
  },
  {
   "cell_type": "code",
   "execution_count": 14,
   "metadata": {},
   "outputs": [],
   "source": [
    "import numpy as np\n",
    "result.head(10)\n",
    "result.to_csv('/Users/sakshikarnawat/Desktop/CapstoneResults/predictions_LSTM.csv', sep=',', index=0)\n",
    "\n"
   ]
  },
  {
   "cell_type": "code",
   "execution_count": 15,
   "metadata": {},
   "outputs": [
    {
     "name": "stdout",
     "output_type": "stream",
     "text": [
      "[[1. 0. 0.]\n",
      " [1. 0. 0.]\n",
      " [0. 1. 0.]\n",
      " ...\n",
      " [0. 0. 1.]\n",
      " [0. 1. 0.]\n",
      " [0. 0. 1.]]\n"
     ]
    }
   ],
   "source": [
    "print(testset_y)"
   ]
  },
  {
   "cell_type": "code",
   "execution_count": 16,
   "metadata": {},
   "outputs": [
    {
     "name": "stdout",
     "output_type": "stream",
     "text": [
      "Test RMSE:  0.4727953956195655\n"
     ]
    }
   ],
   "source": [
    "## Finding the root mean squared error of the model\n",
    "import numpy as np\n",
    "\n",
    "rmse = np.sqrt(mean_squared_error(yhat, testset_y))\n",
    "print('Test RMSE: ' , rmse)"
   ]
  },
  {
   "cell_type": "code",
   "execution_count": 17,
   "metadata": {},
   "outputs": [
    {
     "name": "stdout",
     "output_type": "stream",
     "text": [
      "Test MSE:  0.22353548611906146\n"
     ]
    }
   ],
   "source": [
    "mse = mean_squared_error(yhat, testset_y)\n",
    "print('Test MSE: ',  mse)"
   ]
  },
  {
   "cell_type": "code",
   "execution_count": 18,
   "metadata": {},
   "outputs": [
    {
     "name": "stdout",
     "output_type": "stream",
     "text": [
      "Test MAE:  0.44527810566390863\n"
     ]
    }
   ],
   "source": [
    "mae = mean_absolute_error(yhat, testset_y)\n",
    "print('Test MAE: ',  mae)"
   ]
  },
  {
   "cell_type": "code",
   "execution_count": null,
   "metadata": {},
   "outputs": [],
   "source": []
  }
 ],
 "metadata": {
  "kernelspec": {
   "display_name": "Python 3",
   "language": "python",
   "name": "python3"
  },
  "language_info": {
   "codemirror_mode": {
    "name": "ipython",
    "version": 3
   },
   "file_extension": ".py",
   "mimetype": "text/x-python",
   "name": "python",
   "nbconvert_exporter": "python",
   "pygments_lexer": "ipython3",
   "version": "3.7.6"
  }
 },
 "nbformat": 4,
 "nbformat_minor": 4
}
