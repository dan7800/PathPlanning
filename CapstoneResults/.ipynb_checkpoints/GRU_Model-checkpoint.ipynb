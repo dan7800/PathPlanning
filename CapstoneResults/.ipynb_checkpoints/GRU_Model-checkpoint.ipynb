{
 "cells": [
  {
   "cell_type": "code",
   "execution_count": 1,
   "metadata": {},
   "outputs": [
    {
     "name": "stderr",
     "output_type": "stream",
     "text": [
      "Using TensorFlow backend.\n"
     ]
    }
   ],
   "source": [
    "from math import sqrt\n",
    "from numpy import concatenate\n",
    "from matplotlib import pyplot\n",
    "from pandas import read_csv\n",
    "from pandas import DataFrame\n",
    "from pandas import concat\n",
    "from sklearn.preprocessing import MinMaxScaler\n",
    "from sklearn.preprocessing import LabelEncoder\n",
    "from sklearn.metrics import mean_squared_error\n",
    "from keras.models import Sequential\n",
    "from keras.layers import Dense\n",
    "from keras.layers import LSTM"
   ]
  },
  {
   "cell_type": "code",
   "execution_count": 2,
   "metadata": {},
   "outputs": [],
   "source": [
    "def series_to_supervised(data, n_in=1, n_out=1, dropnan=True):\n",
    "\tn_vars = 1 if type(data) is list else data.shape[1]\n",
    "\tdf = DataFrame(data)\n",
    "\tcols, names = list(), list()\n",
    "\t# input sequence (t-n, ... t-1)\n",
    "\tfor i in range(n_in, 0, -1):\n",
    "\t\tcols.append(df.shift(i))\n",
    "\t\tnames += [('var%d(t-%d)' % (j+1, i)) for j in range(n_vars)]\n",
    "\t# forecast sequence (t, t+1, ... t+n)\n",
    "\tfor i in range(0, n_out):\n",
    "\t\tcols.append(df.shift(-i))\n",
    "\t\tif i == 0:\n",
    "\t\t\tnames += [('var%d(t)' % (j+1)) for j in range(n_vars)]\n",
    "\t\telse:\n",
    "\t\t\tnames += [('var%d(t+%d)' % (j+1, i)) for j in range(n_vars)]\n",
    "\t# put it all together\n",
    "\tagg = concat(cols, axis=1)\n",
    "\tagg.columns = names\n",
    "\t# drop rows with NaN values\n",
    "\tif dropnan:\n",
    "\t\tagg.dropna(inplace=True)\n",
    "\treturn agg"
   ]
  },
  {
   "cell_type": "code",
   "execution_count": 3,
   "metadata": {},
   "outputs": [
    {
     "name": "stdout",
     "output_type": "stream",
     "text": [
      "      Hours   Minutes   Seconds   Latency      Cost  Reliability  Friday  \\\n",
      "0  0.434783  0.322034  0.623683  0.014043  0.041779          1.0     0.0   \n",
      "1  0.217391  0.745763  0.395252  0.001238  0.335580          1.0     0.0   \n",
      "2  0.652174  0.559322  0.327957  0.002972  0.332884          1.0     0.0   \n",
      "3  0.826087  0.033898  0.886267  0.001249  0.335580          1.0     0.0   \n",
      "4  0.391304  0.677966  0.795115  0.040399  0.070081          1.0     0.0   \n",
      "\n",
      "   Monday  Saturday  Sunday  ...  Server_4.0  Server_5.0  Server_6.0  \\\n",
      "0     0.0       0.0     0.0  ...         0.0         1.0         0.0   \n",
      "1     0.0       0.0     0.0  ...         0.0         0.0         0.0   \n",
      "2     0.0       1.0     0.0  ...         0.0         0.0         0.0   \n",
      "3     1.0       0.0     0.0  ...         1.0         0.0         0.0   \n",
      "4     0.0       0.0     0.0  ...         0.0         0.0         0.0   \n",
      "\n",
      "   Server_7.0  Server_8.0  Tactic_1.0  Tactic_2.0  Tactic_3.0  Tactic_4.0  \\\n",
      "0         0.0         0.0         1.0         0.0         0.0         0.0   \n",
      "1         0.0         0.0         0.0         0.0         0.0         0.0   \n",
      "2         1.0         0.0         0.0         1.0         0.0         0.0   \n",
      "3         0.0         0.0         0.0         0.0         0.0         0.0   \n",
      "4         0.0         1.0         1.0         0.0         0.0         0.0   \n",
      "\n",
      "   Tactic_5.0  \n",
      "0         0.0  \n",
      "1         1.0  \n",
      "2         0.0  \n",
      "3         1.0  \n",
      "4         0.0  \n",
      "\n",
      "[5 rows x 26 columns]\n"
     ]
    }
   ],
   "source": [
    "dataset = read_csv('/Users/manali/CLionProjects/exact/datasets/2020_tactic/dummy.csv')\n",
    "dataset= dataset.drop(columns=[\"newCol\",\"ID\"])\n",
    "values = dataset.values\n",
    "print(dataset.head(5))\n",
    "\n",
    "validation = read_csv('/Users/manali/CLionProjects/exact/datasets/2020_tactic/dummy_validate.csv')\n",
    "validation= validation.drop(columns=[\"newCol\",\"ID\"])\n",
    "values_validation = validation.values"
   ]
  },
  {
   "cell_type": "code",
   "execution_count": 4,
   "metadata": {},
   "outputs": [
    {
     "name": "stdout",
     "output_type": "stream",
     "text": [
      "   var1(t-1)  var2(t-1)  var3(t-1)  var4(t-1)  var5(t-1)  var6(t-1)  \\\n",
      "1   0.434783   0.322034   0.623683   0.014043   0.041779        1.0   \n",
      "\n",
      "   var7(t-1)  var8(t-1)  var9(t-1)  var10(t-1)  ...  var20(t-1)  var21(t-1)  \\\n",
      "1        0.0        0.0        0.0         0.0  ...         0.0         0.0   \n",
      "\n",
      "   var22(t-1)  var23(t-1)  var24(t-1)  var25(t-1)  var26(t-1)   var4(t)  \\\n",
      "1         1.0         0.0         0.0         0.0         0.0  0.001238   \n",
      "\n",
      "   var5(t)  var6(t)  \n",
      "1  0.33558      1.0  \n",
      "\n",
      "[1 rows x 29 columns]\n"
     ]
    }
   ],
   "source": [
    "reframed = series_to_supervised(values, 1, 1)\n",
    "reframed_validation = series_to_supervised(values_validation, 1, 1)\n",
    "\n",
    "reframed.drop(reframed.columns[[26,27,28,32,33,34,35,36,37,38,39,40,41,42,43,44,45,46,47,48,49,50,51]], axis=1, inplace=True)\n",
    "reframed_validation.drop(reframed_validation.columns[[26,27,28,32,33,34,35,36,37,38,39,40,41,42,43,44,45,46,47,48,49,50,51]], axis=1, inplace=True)\n",
    "print(reframed.head(1))"
   ]
  },
  {
   "cell_type": "code",
   "execution_count": 5,
   "metadata": {},
   "outputs": [
    {
     "name": "stdout",
     "output_type": "stream",
     "text": [
      "(18488, 1, 26) (18488, 3) (4622, 1, 26) (4622, 3)\n"
     ]
    }
   ],
   "source": [
    "train = reframed.values\n",
    "test = reframed_validation.values\n",
    "\n",
    "train_X, train_y = train[:, :-3], train[:,-3:]\n",
    "test_X, test_y = test[:, :-3], test[:,-3:]\n",
    "\n",
    "train_X = train_X.reshape((train_X.shape[0], 1, train_X.shape[1]))\n",
    "test_X = test_X.reshape((test_X.shape[0], 1, test_X.shape[1]))\n",
    "print(train_X.shape, train_y.shape, test_X.shape, test_y.shape)"
   ]
  },
  {
   "cell_type": "code",
   "execution_count": 6,
   "metadata": {},
   "outputs": [
    {
     "name": "stdout",
     "output_type": "stream",
     "text": [
      "Train on 18488 samples, validate on 4622 samples\n",
      "Epoch 1/20\n",
      "18488/18488 [==============================] - 2s 117us/step - loss: 0.0282 - val_loss: 0.0094\n",
      "Epoch 2/20\n",
      "18488/18488 [==============================] - 1s 43us/step - loss: 0.0093 - val_loss: 0.0093\n",
      "Epoch 3/20\n",
      "18488/18488 [==============================] - 1s 43us/step - loss: 0.0093 - val_loss: 0.0092\n",
      "Epoch 4/20\n",
      "18488/18488 [==============================] - 1s 43us/step - loss: 0.0092 - val_loss: 0.0092\n",
      "Epoch 5/20\n",
      "18488/18488 [==============================] - 1s 43us/step - loss: 0.0092 - val_loss: 0.0092\n",
      "Epoch 6/20\n",
      "18488/18488 [==============================] - 1s 43us/step - loss: 0.0092 - val_loss: 0.0092\n",
      "Epoch 7/20\n",
      "18488/18488 [==============================] - 1s 43us/step - loss: 0.0092 - val_loss: 0.0092\n",
      "Epoch 8/20\n",
      "18488/18488 [==============================] - 1s 42us/step - loss: 0.0092 - val_loss: 0.0092\n",
      "Epoch 9/20\n",
      "18488/18488 [==============================] - 1s 44us/step - loss: 0.0092 - val_loss: 0.0092\n",
      "Epoch 10/20\n",
      "18488/18488 [==============================] - 1s 45us/step - loss: 0.0092 - val_loss: 0.0092\n",
      "Epoch 11/20\n",
      "18488/18488 [==============================] - 1s 43us/step - loss: 0.0092 - val_loss: 0.0092\n",
      "Epoch 12/20\n",
      "18488/18488 [==============================] - 1s 43us/step - loss: 0.0092 - val_loss: 0.0092\n",
      "Epoch 13/20\n",
      "18488/18488 [==============================] - 1s 42us/step - loss: 0.0092 - val_loss: 0.0092\n",
      "Epoch 14/20\n",
      "18488/18488 [==============================] - 1s 44us/step - loss: 0.0092 - val_loss: 0.0092\n",
      "Epoch 15/20\n",
      "18488/18488 [==============================] - 1s 43us/step - loss: 0.0092 - val_loss: 0.0092\n",
      "Epoch 16/20\n",
      "18488/18488 [==============================] - 1s 44us/step - loss: 0.0092 - val_loss: 0.0092\n",
      "Epoch 17/20\n",
      "18488/18488 [==============================] - 1s 45us/step - loss: 0.0092 - val_loss: 0.0092\n",
      "Epoch 18/20\n",
      "18488/18488 [==============================] - 1s 45us/step - loss: 0.0092 - val_loss: 0.0092\n",
      "Epoch 19/20\n",
      "18488/18488 [==============================] - 1s 45us/step - loss: 0.0092 - val_loss: 0.0092\n",
      "Epoch 20/20\n",
      "18488/18488 [==============================] - 1s 45us/step - loss: 0.0092 - val_loss: 0.0092\n"
     ]
    },
    {
     "data": {
      "image/png": "[encoded data removed]",
      "text/plain": [
       "<Figure size 432x288 with 1 Axes>"
      ]
     },
     "metadata": {
      "needs_background": "light"
     },
     "output_type": "display_data"
    }
   ],
   "source": [
    "from keras.layers import GRU\n",
    "model = Sequential()\n",
    "model.add(GRU(100, return_sequences=True,input_shape=(train_X.shape[1], train_X.shape[2])))\n",
    "model.add(GRU(units=30, return_sequences=True))\n",
    "model.add(GRU(units=30))\n",
    "model.add(Dense(units=3))\n",
    "\n",
    "model.compile(loss='mse', optimizer='adam')\n",
    "# fit network\n",
    "history = model.fit(train_X, train_y, epochs=20, batch_size=72, validation_data=(test_X, test_y), verbose=1, shuffle=False)\n",
    "# plot history\n",
    "pyplot.plot(history.history['loss'], label='train')\n",
    "pyplot.plot(history.history['val_loss'], label='test')\n",
    "pyplot.legend()\n",
    "pyplot.show()"
   ]
  },
  {
   "cell_type": "code",
   "execution_count": 7,
   "metadata": {},
   "outputs": [],
   "source": [
    "test_dataset = read_csv('/Users/manali/CLionProjects/exact/datasets/2020_tactic/dummy_1.csv')\n",
    "test_dataset= test_dataset.drop(columns=[\"newCol\",\"ID\"])\n",
    "test_values = test_dataset.values\n",
    "reframed_test = series_to_supervised(test_values, 1, 1)\n",
    "reframed_test.drop(reframed_test.columns[[26,27,28,32,33,34,35,36,37,38,39,40,41,42,43,44,45,46,47,48,49,50,51]], axis=1, inplace=True)\n",
    "testset = reframed_test.values\n",
    "testset_X, testset_y = testset[:, :-3], testset[:,-3:]\n",
    "testdataReshaped = testset_X.reshape((testset_X.shape[0], 1, testset_X.shape[1]))"
   ]
  },
  {
   "cell_type": "code",
   "execution_count": 8,
   "metadata": {},
   "outputs": [
    {
     "name": "stdout",
     "output_type": "stream",
     "text": [
      "[[0.02136366 0.30018216 1.01112   ]\n",
      " [0.02281838 0.29568887 1.0050738 ]\n",
      " [0.02084984 0.2957949  1.0161421 ]\n",
      " ...\n",
      " [0.02740883 0.30753434 1.0079678 ]\n",
      " [0.01977839 0.29700136 1.0168941 ]\n",
      " [0.02011229 0.3009255  1.0169203 ]]\n"
     ]
    }
   ],
   "source": [
    "import pandas as pd\n",
    "\n",
    "yhat = model.predict(testdataReshaped)\n",
    "\n",
    "print(yhat)\n",
    "dataset = pd.DataFrame({'predicted_Latency': yhat[:, 0], 'predicted_Cost': yhat[:, 1],\n",
    "                       'predicted_Reliability': yhat[:, 2]})\n",
    "dataset['predicted_Reliability'].loc[dataset['predicted_Reliability'] >0.5] = 1\n",
    "dataset['predicted_Reliability'].loc[dataset['predicted_Reliability'] <0.5] = 0"
   ]
  },
  {
   "cell_type": "code",
   "execution_count": 9,
   "metadata": {},
   "outputs": [],
   "source": [
    "frames = [test_dataset, dataset]\n",
    "result = pd.concat(frames,axis =1)"
   ]
  },
  {
   "cell_type": "code",
   "execution_count": 10,
   "metadata": {},
   "outputs": [],
   "source": [
    "import numpy as np\n",
    "result.head(10)\n",
    "result.to_csv('/Users/manali/JupyterProjects/predictions_GRU.csv', sep=',', index=0)"
   ]
  },
  {
   "cell_type": "code",
   "execution_count": 11,
   "metadata": {},
   "outputs": [
    {
     "name": "stdout",
     "output_type": "stream",
     "text": [
      "[[0.00100941 0.26549865 1.        ]\n",
      " [0.00272599 0.3328841  1.        ]\n",
      " [0.00100997 0.60916442 1.        ]\n",
      " ...\n",
      " [0.00292942 0.33423181 1.        ]\n",
      " [0.00270023 0.33423181 1.        ]\n",
      " [0.00100936 0.40026954 1.        ]]\n"
     ]
    }
   ],
   "source": [
    "print(testset_y)"
   ]
  },
  {
   "cell_type": "code",
   "execution_count": null,
   "metadata": {},
   "outputs": [],
   "source": [
    "#rmse = sqrt(mean_squared_error(yhat, testset_y))\n",
    "#print('Test RMSE: %.3f' % rmse)"
   ]
  },
  {
   "cell_type": "code",
   "execution_count": null,
   "metadata": {},
   "outputs": [],
   "source": []
  },
  {
   "cell_type": "code",
   "execution_count": null,
   "metadata": {},
   "outputs": [],
   "source": []
  }
 ],
 "metadata": {
  "kernelspec": {
   "display_name": "Python 3",
   "language": "python",
   "name": "python3"
  },
  "language_info": {
   "codemirror_mode": {
    "name": "ipython",
    "version": 3
   },
   "file_extension": ".py",
   "mimetype": "text/x-python",
   "name": "python",
   "nbconvert_exporter": "python",
   "pygments_lexer": "ipython3",
   "version": "3.7.6"
  }
 },
 "nbformat": 4,
 "nbformat_minor": 4
}
