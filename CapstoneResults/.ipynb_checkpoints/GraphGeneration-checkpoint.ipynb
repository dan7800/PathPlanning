{
 "cells": [
  {
   "cell_type": "code",
   "execution_count": 1,
   "metadata": {},
   "outputs": [
    {
     "ename": "FileNotFoundError",
     "evalue": "[Errno 2] File Final_Predicted_Data(LSTM).csv does not exist: 'Final_Predicted_Data(LSTM).csv'",
     "output_type": "error",
     "traceback": [
      "\u001b[0;31m---------------------------------------------------------------------------\u001b[0m",
      "\u001b[0;31mFileNotFoundError\u001b[0m                         Traceback (most recent call last)",
      "\u001b[0;32m<ipython-input-1-7e9fca825b41>\u001b[0m in \u001b[0;36m<module>\u001b[0;34m\u001b[0m\n\u001b[1;32m      1\u001b[0m \u001b[0;32mimport\u001b[0m \u001b[0mpandas\u001b[0m \u001b[0;32mas\u001b[0m \u001b[0mpd\u001b[0m\u001b[0;34m\u001b[0m\u001b[0;34m\u001b[0m\u001b[0m\n\u001b[0;32m----> 2\u001b[0;31m \u001b[0mdata\u001b[0m \u001b[0;34m=\u001b[0m \u001b[0mpd\u001b[0m\u001b[0;34m.\u001b[0m\u001b[0mread_csv\u001b[0m\u001b[0;34m(\u001b[0m\u001b[0;34m\"Final_Predicted_Data(LSTM).csv\"\u001b[0m\u001b[0;34m)\u001b[0m\u001b[0;34m\u001b[0m\u001b[0;34m\u001b[0m\u001b[0m\n\u001b[0m",
      "\u001b[0;32m~/opt/anaconda3/lib/python3.7/site-packages/pandas/io/parsers.py\u001b[0m in \u001b[0;36mparser_f\u001b[0;34m(filepath_or_buffer, sep, delimiter, header, names, index_col, usecols, squeeze, prefix, mangle_dupe_cols, dtype, engine, converters, true_values, false_values, skipinitialspace, skiprows, skipfooter, nrows, na_values, keep_default_na, na_filter, verbose, skip_blank_lines, parse_dates, infer_datetime_format, keep_date_col, date_parser, dayfirst, cache_dates, iterator, chunksize, compression, thousands, decimal, lineterminator, quotechar, quoting, doublequote, escapechar, comment, encoding, dialect, error_bad_lines, warn_bad_lines, delim_whitespace, low_memory, memory_map, float_precision)\u001b[0m\n\u001b[1;32m    674\u001b[0m         )\n\u001b[1;32m    675\u001b[0m \u001b[0;34m\u001b[0m\u001b[0m\n\u001b[0;32m--> 676\u001b[0;31m         \u001b[0;32mreturn\u001b[0m \u001b[0m_read\u001b[0m\u001b[0;34m(\u001b[0m\u001b[0mfilepath_or_buffer\u001b[0m\u001b[0;34m,\u001b[0m \u001b[0mkwds\u001b[0m\u001b[0;34m)\u001b[0m\u001b[0;34m\u001b[0m\u001b[0;34m\u001b[0m\u001b[0m\n\u001b[0m\u001b[1;32m    677\u001b[0m \u001b[0;34m\u001b[0m\u001b[0m\n\u001b[1;32m    678\u001b[0m     \u001b[0mparser_f\u001b[0m\u001b[0;34m.\u001b[0m\u001b[0m__name__\u001b[0m \u001b[0;34m=\u001b[0m \u001b[0mname\u001b[0m\u001b[0;34m\u001b[0m\u001b[0;34m\u001b[0m\u001b[0m\n",
      "\u001b[0;32m~/opt/anaconda3/lib/python3.7/site-packages/pandas/io/parsers.py\u001b[0m in \u001b[0;36m_read\u001b[0;34m(filepath_or_buffer, kwds)\u001b[0m\n\u001b[1;32m    446\u001b[0m \u001b[0;34m\u001b[0m\u001b[0m\n\u001b[1;32m    447\u001b[0m     \u001b[0;31m# Create the parser.\u001b[0m\u001b[0;34m\u001b[0m\u001b[0;34m\u001b[0m\u001b[0;34m\u001b[0m\u001b[0m\n\u001b[0;32m--> 448\u001b[0;31m     \u001b[0mparser\u001b[0m \u001b[0;34m=\u001b[0m \u001b[0mTextFileReader\u001b[0m\u001b[0;34m(\u001b[0m\u001b[0mfp_or_buf\u001b[0m\u001b[0;34m,\u001b[0m \u001b[0;34m**\u001b[0m\u001b[0mkwds\u001b[0m\u001b[0;34m)\u001b[0m\u001b[0;34m\u001b[0m\u001b[0;34m\u001b[0m\u001b[0m\n\u001b[0m\u001b[1;32m    449\u001b[0m \u001b[0;34m\u001b[0m\u001b[0m\n\u001b[1;32m    450\u001b[0m     \u001b[0;32mif\u001b[0m \u001b[0mchunksize\u001b[0m \u001b[0;32mor\u001b[0m \u001b[0miterator\u001b[0m\u001b[0;34m:\u001b[0m\u001b[0;34m\u001b[0m\u001b[0;34m\u001b[0m\u001b[0m\n",
      "\u001b[0;32m~/opt/anaconda3/lib/python3.7/site-packages/pandas/io/parsers.py\u001b[0m in \u001b[0;36m__init__\u001b[0;34m(self, f, engine, **kwds)\u001b[0m\n\u001b[1;32m    878\u001b[0m             \u001b[0mself\u001b[0m\u001b[0;34m.\u001b[0m\u001b[0moptions\u001b[0m\u001b[0;34m[\u001b[0m\u001b[0;34m\"has_index_names\"\u001b[0m\u001b[0;34m]\u001b[0m \u001b[0;34m=\u001b[0m \u001b[0mkwds\u001b[0m\u001b[0;34m[\u001b[0m\u001b[0;34m\"has_index_names\"\u001b[0m\u001b[0;34m]\u001b[0m\u001b[0;34m\u001b[0m\u001b[0;34m\u001b[0m\u001b[0m\n\u001b[1;32m    879\u001b[0m \u001b[0;34m\u001b[0m\u001b[0m\n\u001b[0;32m--> 880\u001b[0;31m         \u001b[0mself\u001b[0m\u001b[0;34m.\u001b[0m\u001b[0m_make_engine\u001b[0m\u001b[0;34m(\u001b[0m\u001b[0mself\u001b[0m\u001b[0;34m.\u001b[0m\u001b[0mengine\u001b[0m\u001b[0;34m)\u001b[0m\u001b[0;34m\u001b[0m\u001b[0;34m\u001b[0m\u001b[0m\n\u001b[0m\u001b[1;32m    881\u001b[0m \u001b[0;34m\u001b[0m\u001b[0m\n\u001b[1;32m    882\u001b[0m     \u001b[0;32mdef\u001b[0m \u001b[0mclose\u001b[0m\u001b[0;34m(\u001b[0m\u001b[0mself\u001b[0m\u001b[0;34m)\u001b[0m\u001b[0;34m:\u001b[0m\u001b[0;34m\u001b[0m\u001b[0;34m\u001b[0m\u001b[0m\n",
      "\u001b[0;32m~/opt/anaconda3/lib/python3.7/site-packages/pandas/io/parsers.py\u001b[0m in \u001b[0;36m_make_engine\u001b[0;34m(self, engine)\u001b[0m\n\u001b[1;32m   1112\u001b[0m     \u001b[0;32mdef\u001b[0m \u001b[0m_make_engine\u001b[0m\u001b[0;34m(\u001b[0m\u001b[0mself\u001b[0m\u001b[0;34m,\u001b[0m \u001b[0mengine\u001b[0m\u001b[0;34m=\u001b[0m\u001b[0;34m\"c\"\u001b[0m\u001b[0;34m)\u001b[0m\u001b[0;34m:\u001b[0m\u001b[0;34m\u001b[0m\u001b[0;34m\u001b[0m\u001b[0m\n\u001b[1;32m   1113\u001b[0m         \u001b[0;32mif\u001b[0m \u001b[0mengine\u001b[0m \u001b[0;34m==\u001b[0m \u001b[0;34m\"c\"\u001b[0m\u001b[0;34m:\u001b[0m\u001b[0;34m\u001b[0m\u001b[0;34m\u001b[0m\u001b[0m\n\u001b[0;32m-> 1114\u001b[0;31m             \u001b[0mself\u001b[0m\u001b[0;34m.\u001b[0m\u001b[0m_engine\u001b[0m \u001b[0;34m=\u001b[0m \u001b[0mCParserWrapper\u001b[0m\u001b[0;34m(\u001b[0m\u001b[0mself\u001b[0m\u001b[0;34m.\u001b[0m\u001b[0mf\u001b[0m\u001b[0;34m,\u001b[0m \u001b[0;34m**\u001b[0m\u001b[0mself\u001b[0m\u001b[0;34m.\u001b[0m\u001b[0moptions\u001b[0m\u001b[0;34m)\u001b[0m\u001b[0;34m\u001b[0m\u001b[0;34m\u001b[0m\u001b[0m\n\u001b[0m\u001b[1;32m   1115\u001b[0m         \u001b[0;32melse\u001b[0m\u001b[0;34m:\u001b[0m\u001b[0;34m\u001b[0m\u001b[0;34m\u001b[0m\u001b[0m\n\u001b[1;32m   1116\u001b[0m             \u001b[0;32mif\u001b[0m \u001b[0mengine\u001b[0m \u001b[0;34m==\u001b[0m \u001b[0;34m\"python\"\u001b[0m\u001b[0;34m:\u001b[0m\u001b[0;34m\u001b[0m\u001b[0;34m\u001b[0m\u001b[0m\n",
      "\u001b[0;32m~/opt/anaconda3/lib/python3.7/site-packages/pandas/io/parsers.py\u001b[0m in \u001b[0;36m__init__\u001b[0;34m(self, src, **kwds)\u001b[0m\n\u001b[1;32m   1889\u001b[0m         \u001b[0mkwds\u001b[0m\u001b[0;34m[\u001b[0m\u001b[0;34m\"usecols\"\u001b[0m\u001b[0;34m]\u001b[0m \u001b[0;34m=\u001b[0m \u001b[0mself\u001b[0m\u001b[0;34m.\u001b[0m\u001b[0musecols\u001b[0m\u001b[0;34m\u001b[0m\u001b[0;34m\u001b[0m\u001b[0m\n\u001b[1;32m   1890\u001b[0m \u001b[0;34m\u001b[0m\u001b[0m\n\u001b[0;32m-> 1891\u001b[0;31m         \u001b[0mself\u001b[0m\u001b[0;34m.\u001b[0m\u001b[0m_reader\u001b[0m \u001b[0;34m=\u001b[0m \u001b[0mparsers\u001b[0m\u001b[0;34m.\u001b[0m\u001b[0mTextReader\u001b[0m\u001b[0;34m(\u001b[0m\u001b[0msrc\u001b[0m\u001b[0;34m,\u001b[0m \u001b[0;34m**\u001b[0m\u001b[0mkwds\u001b[0m\u001b[0;34m)\u001b[0m\u001b[0;34m\u001b[0m\u001b[0;34m\u001b[0m\u001b[0m\n\u001b[0m\u001b[1;32m   1892\u001b[0m         \u001b[0mself\u001b[0m\u001b[0;34m.\u001b[0m\u001b[0munnamed_cols\u001b[0m \u001b[0;34m=\u001b[0m \u001b[0mself\u001b[0m\u001b[0;34m.\u001b[0m\u001b[0m_reader\u001b[0m\u001b[0;34m.\u001b[0m\u001b[0munnamed_cols\u001b[0m\u001b[0;34m\u001b[0m\u001b[0;34m\u001b[0m\u001b[0m\n\u001b[1;32m   1893\u001b[0m \u001b[0;34m\u001b[0m\u001b[0m\n",
      "\u001b[0;32mpandas/_libs/parsers.pyx\u001b[0m in \u001b[0;36mpandas._libs.parsers.TextReader.__cinit__\u001b[0;34m()\u001b[0m\n",
      "\u001b[0;32mpandas/_libs/parsers.pyx\u001b[0m in \u001b[0;36mpandas._libs.parsers.TextReader._setup_parser_source\u001b[0;34m()\u001b[0m\n",
      "\u001b[0;31mFileNotFoundError\u001b[0m: [Errno 2] File Final_Predicted_Data(LSTM).csv does not exist: 'Final_Predicted_Data(LSTM).csv'"
     ]
    }
   ],
   "source": [
    "import pandas as pd\n",
    "data = pd.read_csv(\"Final_Predicted_Data(LSTM).csv\")"
   ]
  },
  {
   "cell_type": "code",
   "execution_count": null,
   "metadata": {},
   "outputs": [],
   "source": [
    "data"
   ]
  },
  {
   "cell_type": "code",
   "execution_count": 3,
   "metadata": {},
   "outputs": [],
   "source": [
    "# graphDataActual \n",
    "\n",
    "\n",
    "\n",
    "# Hours\n",
    "# Minutes\n",
    "# Seconds\n",
    "# Friday\n",
    "# Monday\n",
    "# Saturday\n",
    "# Sunday\n",
    "# Tuesday\n",
    "# Wednesday\n",
    "\n",
    "# Heuristics\n",
    "# TotalCost\n",
    "\n",
    "# A\n",
    "# B\n",
    "# C\n",
    "# A’\n",
    "# B’\n",
    "# C’\n",
    "\n",
    "\n",
    "# graphDataPredicted\n",
    "\n",
    "# Hours\n",
    "# Minutes\n",
    "# Seconds\n",
    "# Friday\n",
    "# Monday\n",
    "# Saturday\n",
    "# Sunday\n",
    "# Tuesday\n",
    "# Wednesday\n",
    "\n",
    "# predicted_heuristics\n",
    "# predicted_TotalCost\n",
    "\n",
    "\n",
    "# A\n",
    "# B\n",
    "# C\n",
    "# A’\n",
    "# B’\n",
    "# C’\n",
    "\n",
    "\n",
    "groundTruthCost = []\n",
    "for i,j in data.iterrows(): \n",
    "    if j[13] == 1 and j[17] == 1:\n",
    "        groundTruthCost.append({\"Point1\": 'A', \"Point2\": 'B', \"ActualCost\": j[5]})\n",
    "    elif j[13] == 1 and j[18] == 1:\n",
    "        groundTruthCost.append({\"Point1\": 'A', \"Point2\": 'C', \"ActualCost\": j[5]})\n",
    "    elif j[14] == 1 and j[16] == 1:\n",
    "        groundTruthCost.append({\"Point1\": 'B', \"Point2\": 'A', \"ActualCost\": j[5]})\n",
    "    elif j[14] == 1 and j[18] == 1:\n",
    "        groundTruthCost.append({\"Point1\": 'B', \"Point2\": 'C', \"ActualCost\": j[5]})\n",
    "    elif j[15] == 1 and j[16] == 1:\n",
    "        groundTruthCost.append({\"Point1\": 'C', \"Point2\": 'A', \"ActualCost\": j[5]})\n",
    "    elif j[15] == 1 and j[17] == 1:\n",
    "        groundTruthCost.append({\"Point1\": 'C', \"Point2\": 'B', \"ActualCost\": j[5]})\n",
    "\n",
    "groundTruthHeuristics = []\n",
    "for i,j in data.iterrows(): \n",
    "    if j[13] == 1 and j[17] == 1:\n",
    "        groundTruthHeuristics.append({\"Point1\": 'A', \"Point2\": 'B', \"Heuristics\": j[4]})\n",
    "    elif j[13] == 1 and j[18] == 1:\n",
    "        groundTruthHeuristics.append({\"Point1\": 'A', \"Point2\": 'C', \"Heuristics\": j[4]})\n",
    "    elif j[14] == 1 and j[16] == 1:\n",
    "        groundTruthHeuristics.append({\"Point1\": 'B', \"Point2\": 'A', \"Heuristics\": j[4]})\n",
    "    elif j[14] == 1 and j[18] == 1:\n",
    "        groundTruthHeuristics.append({\"Point1\": 'B', \"Point2\": 'C', \"Heuristics\": j[4]})\n",
    "    elif j[15] == 1 and j[16] == 1:\n",
    "        groundTruthHeuristics.append({\"Point1\": 'C', \"Point2\": 'A', \"Heuristics\": j[4]})\n",
    "    elif j[15] == 1 and j[17] == 1:\n",
    "        groundTruthHeuristics.append({\"Point1\": 'C', \"Point2\": 'B', \"Heuristics\": j[4]})\n",
    "        \n",
    "predictedCost = []\n",
    "for i,j in data.iterrows(): \n",
    "    if j[13] == 1 and j[17] == 1:\n",
    "        predictedCost.append({\"Point1\": 'A', \"Point2\": 'B', \"PredictedCost\": j[20]})\n",
    "    elif j[13] == 1 and j[18] == 1:\n",
    "        predictedCost.append({\"Point1\": 'A', \"Point2\": 'C', \"PredictedCost\": j[20]})\n",
    "    elif j[14] == 1 and j[16] == 1:\n",
    "        predictedCost.append({\"Point1\": 'B', \"Point2\": 'A', \"PredictedCost\": j[20]})\n",
    "    elif j[14] == 1 and j[18] == 1:\n",
    "        predictedCost.append({\"Point1\": 'B', \"Point2\": 'C', \"PredictedCost\": j[20]})\n",
    "    elif j[15] == 1 and j[16] == 1:\n",
    "        predictedCost.append({\"Point1\": 'C', \"Point2\": 'A', \"PredictedCost\": j[20]})\n",
    "    elif j[15] == 1 and j[17] == 1:\n",
    "        predictedCost.append({\"Point1\": 'C', \"Point2\": 'B', \"PredictedCost\": j[20]})\n",
    "\n",
    "predictedHeuristics = []\n",
    "for i,j in data.iterrows(): \n",
    "    if j[13] == 1 and j[17] == 1:\n",
    "        predictedHeuristics.append({\"Point1\": 'A', \"Point2\": 'B', \"ActualCost\": j[19]})\n",
    "    elif j[13] == 1 and j[18] == 1:\n",
    "        predictedHeuristics.append({\"Point1\": 'A', \"Point2\": 'C', \"ActualCost\": j[19]})\n",
    "    elif j[14] == 1 and j[16] == 1:\n",
    "        predictedHeuristics.append({\"Point1\": 'B', \"Point2\": 'A', \"ActualCost\": j[19]})\n",
    "    elif j[14] == 1 and j[18] == 1:\n",
    "        predictedHeuristics.append({\"Point1\": 'B', \"Point2\": 'C', \"ActualCost\": j[19]})\n",
    "    elif j[15] == 1 and j[16] == 1:\n",
    "        predictedHeuristics.append({\"Point1\": 'C', \"Point2\": 'A', \"ActualCost\": j[19]})\n",
    "    elif j[15] == 1 and j[17] == 1:\n",
    "        predictedHeuristics.append({\"Point1\": 'C', \"Point2\": 'B', \"ActualCost\": j[19]})\n",
    "\n",
    "\n"
   ]
  },
  {
   "cell_type": "code",
   "execution_count": 4,
   "metadata": {},
   "outputs": [],
   "source": [
    "import csv\n",
    "keys = groundTruthCost[0].keys()\n",
    "with open('groundTruthCost.csv', 'w', newline='')  as output_file:\n",
    "    dict_writer = csv.DictWriter(output_file, keys)\n",
    "    dict_writer.writeheader()\n",
    "    dict_writer.writerows(groundTruthCost)"
   ]
  },
  {
   "cell_type": "code",
   "execution_count": 5,
   "metadata": {},
   "outputs": [],
   "source": [
    "keys = groundTruthHeuristics[0].keys()\n",
    "with open('groundTruthHeuristics.csv', 'w', newline='')  as output_file:\n",
    "    dict_writer = csv.DictWriter(output_file, keys)\n",
    "    dict_writer.writeheader()\n",
    "    dict_writer.writerows(groundTruthHeuristics)"
   ]
  },
  {
   "cell_type": "code",
   "execution_count": 6,
   "metadata": {},
   "outputs": [],
   "source": [
    "keys = predictedCost[0].keys()\n",
    "with open('predictedCost.csv', 'w', newline='')  as output_file:\n",
    "    dict_writer = csv.DictWriter(output_file, keys)\n",
    "    dict_writer.writeheader()\n",
    "    dict_writer.writerows(predictedCost)"
   ]
  },
  {
   "cell_type": "code",
   "execution_count": 7,
   "metadata": {},
   "outputs": [],
   "source": [
    "keys = predictedHeuristics[0].keys()\n",
    "with open('predictedHeuristics.csv', 'w', newline='')  as output_file:\n",
    "    dict_writer = csv.DictWriter(output_file, keys)\n",
    "    dict_writer.writeheader()\n",
    "    dict_writer.writerows(predictedHeuristics)"
   ]
  }
 ],
 "metadata": {
  "kernelspec": {
   "display_name": "Python 3",
   "language": "python",
   "name": "python3"
  },
  "language_info": {
   "codemirror_mode": {
    "name": "ipython",
    "version": 3
   },
   "file_extension": ".py",
   "mimetype": "text/x-python",
   "name": "python",
   "nbconvert_exporter": "python",
   "pygments_lexer": "ipython3",
   "version": "3.7.6"
  }
 },
 "nbformat": 4,
 "nbformat_minor": 4
}
